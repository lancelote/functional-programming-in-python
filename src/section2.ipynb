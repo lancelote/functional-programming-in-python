{
 "cells": [
  {
   "cell_type": "code",
   "execution_count": 6,
   "metadata": {
    "collapsed": true
   },
   "outputs": [],
   "source": [
    "from collections import namedtuple\n",
    "from pprint import pprint as pp"
   ]
  },
  {
   "cell_type": "code",
   "execution_count": 7,
   "outputs": [],
   "source": [
    "Scientist = namedtuple(\"Scientist\", [\"name\", \"field\", \"born\", \"nobel\"])"
   ],
   "metadata": {
    "collapsed": false
   }
  },
  {
   "cell_type": "code",
   "execution_count": 8,
   "outputs": [],
   "source": [
    "scientists = (\n",
    "    Scientist(name=\"Ada Lovelace\", field=\"math\", born=1815, nobel=False),\n",
    "    Scientist(name=\"Emmy Noether\", field=\"math\", born=1882, nobel=False),\n",
    "    Scientist(name=\"Marie Curie\", field=\"\", born=1867, nobel=True),\n",
    "    Scientist(name=\"Tu Youyou\", field=\"physics\", born=1930, nobel=True),\n",
    "    Scientist(name=\"Ada Yonath\", field=\"chemistry\", born=1939, nobel=True),\n",
    "    Scientist(name=\"Vera Rubin\", field=\"astronomy\", born=1928, nobel=False),\n",
    "    Scientist(name=\"Sally Ride\", field=\"physics\", born=1951, nobel=False),\n",
    ")"
   ],
   "metadata": {
    "collapsed": false
   }
  },
  {
   "cell_type": "code",
   "execution_count": 9,
   "outputs": [
    {
     "name": "stdout",
     "output_type": "stream",
     "text": [
      "(Scientist(name='Marie Curie', field='', born=1867, nobel=True),\n",
      " Scientist(name='Tu Youyou', field='physics', born=1930, nobel=True),\n",
      " Scientist(name='Ada Yonath', field='chemistry', born=1939, nobel=True))\n"
     ]
    }
   ],
   "source": [
    "pp(tuple(filter(lambda x: x.nobel is True, scientists)))"
   ],
   "metadata": {
    "collapsed": false
   }
  },
  {
   "cell_type": "code",
   "execution_count": 11,
   "outputs": [
    {
     "name": "stdout",
     "output_type": "stream",
     "text": [
      "(Scientist(name='Tu Youyou', field='physics', born=1930, nobel=True),)\n"
     ]
    }
   ],
   "source": [
    "pp(tuple(filter(lambda x: x.field == \"physics\" and x.nobel is True, scientists)))"
   ],
   "metadata": {
    "collapsed": false
   }
  },
  {
   "cell_type": "code",
   "execution_count": 12,
   "outputs": [],
   "source": [
    "def nobel_filter(scientist: Scientist) -> bool:\n",
    "    return scientist.nobel is True"
   ],
   "metadata": {
    "collapsed": false
   }
  },
  {
   "cell_type": "code",
   "execution_count": 13,
   "outputs": [
    {
     "name": "stdout",
     "output_type": "stream",
     "text": [
      "(Scientist(name='Marie Curie', field='', born=1867, nobel=True),\n",
      " Scientist(name='Tu Youyou', field='physics', born=1930, nobel=True),\n",
      " Scientist(name='Ada Yonath', field='chemistry', born=1939, nobel=True))\n"
     ]
    }
   ],
   "source": [
    "pp(tuple(filter(nobel_filter, scientists)))"
   ],
   "metadata": {
    "collapsed": false
   }
  },
  {
   "cell_type": "code",
   "execution_count": 14,
   "outputs": [
    {
     "name": "stdout",
     "output_type": "stream",
     "text": [
      "(Scientist(name='Marie Curie', field='', born=1867, nobel=True),\n",
      " Scientist(name='Tu Youyou', field='physics', born=1930, nobel=True),\n",
      " Scientist(name='Ada Yonath', field='chemistry', born=1939, nobel=True))\n"
     ]
    }
   ],
   "source": [
    "pp(tuple(x for x in scientists if x.nobel))"
   ],
   "metadata": {
    "collapsed": false
   }
  }
 ],
 "metadata": {
  "kernelspec": {
   "display_name": "Python 3",
   "language": "python",
   "name": "python3"
  },
  "language_info": {
   "codemirror_mode": {
    "name": "ipython",
    "version": 2
   },
   "file_extension": ".py",
   "mimetype": "text/x-python",
   "name": "python",
   "nbconvert_exporter": "python",
   "pygments_lexer": "ipython2",
   "version": "2.7.6"
  }
 },
 "nbformat": 4,
 "nbformat_minor": 0
}
