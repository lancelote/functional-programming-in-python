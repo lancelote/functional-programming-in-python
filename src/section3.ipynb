{
 "cells": [
  {
   "cell_type": "code",
   "execution_count": 9,
   "metadata": {
    "collapsed": true
   },
   "outputs": [],
   "source": [
    "from collections import namedtuple\n",
    "from pprint import pprint as pp\n",
    "from datetime import date\n",
    "from typing import TypedDict"
   ]
  },
  {
   "cell_type": "code",
   "execution_count": 10,
   "outputs": [],
   "source": [
    "Scientist = namedtuple(\"Scientist\", [\"name\", \"field\", \"born\", \"nobel\"])"
   ],
   "metadata": {
    "collapsed": false
   }
  },
  {
   "cell_type": "code",
   "execution_count": 11,
   "outputs": [],
   "source": [
    "scientists = (\n",
    "    Scientist(name=\"Ada Lovelace\", field=\"math\", born=1815, nobel=False),\n",
    "    Scientist(name=\"Emmy Noether\", field=\"math\", born=1882, nobel=False),\n",
    "    Scientist(name=\"Marie Curie\", field=\"\", born=1867, nobel=True),\n",
    "    Scientist(name=\"Tu Youyou\", field=\"physics\", born=1930, nobel=True),\n",
    "    Scientist(name=\"Ada Yonath\", field=\"chemistry\", born=1939, nobel=True),\n",
    "    Scientist(name=\"Vera Rubin\", field=\"astronomy\", born=1928, nobel=False),\n",
    "    Scientist(name=\"Sally Ride\", field=\"physics\", born=1951, nobel=False),\n",
    ")"
   ],
   "metadata": {
    "collapsed": false
   }
  },
  {
   "cell_type": "code",
   "execution_count": 12,
   "outputs": [
    {
     "name": "stdout",
     "output_type": "stream",
     "text": [
      "({'age': 207, 'name': 'Ada Lovelace'},\n",
      " {'age': 140, 'name': 'Emmy Noether'},\n",
      " {'age': 155, 'name': 'Marie Curie'},\n",
      " {'age': 92, 'name': 'Tu Youyou'},\n",
      " {'age': 83, 'name': 'Ada Yonath'},\n",
      " {'age': 94, 'name': 'Vera Rubin'},\n",
      " {'age': 71, 'name': 'Sally Ride'})\n"
     ]
    }
   ],
   "source": [
    "class NameAge(TypedDict):\n",
    "    name: str\n",
    "    age: int\n",
    "\n",
    "\n",
    "def get_name_and_age(scientist: Scientist) -> NameAge:\n",
    "    return {\n",
    "        \"name\": scientist.name,\n",
    "        \"age\": date.today().year - scientist.born\n",
    "    }\n",
    "\n",
    "\n",
    "names_and_ages = tuple(map(get_name_and_age, scientists))\n",
    "pp(names_and_ages)"
   ],
   "metadata": {
    "collapsed": false
   }
  },
  {
   "cell_type": "code",
   "execution_count": 14,
   "outputs": [
    {
     "name": "stdout",
     "output_type": "stream",
     "text": [
      "({'age': 207, 'name': 'Ada Lovelace'},\n",
      " {'age': 140, 'name': 'Emmy Noether'},\n",
      " {'age': 155, 'name': 'Marie Curie'},\n",
      " {'age': 92, 'name': 'Tu Youyou'},\n",
      " {'age': 83, 'name': 'Ada Yonath'},\n",
      " {'age': 94, 'name': 'Vera Rubin'},\n",
      " {'age': 71, 'name': 'Sally Ride'})\n"
     ]
    }
   ],
   "source": [
    "pp(tuple(get_name_and_age(x) for x in scientists))"
   ],
   "metadata": {
    "collapsed": false
   }
  }
 ],
 "metadata": {
  "kernelspec": {
   "display_name": "Python 3",
   "language": "python",
   "name": "python3"
  },
  "language_info": {
   "codemirror_mode": {
    "name": "ipython",
    "version": 2
   },
   "file_extension": ".py",
   "mimetype": "text/x-python",
   "name": "python",
   "nbconvert_exporter": "python",
   "pygments_lexer": "ipython2",
   "version": "2.7.6"
  }
 },
 "nbformat": 4,
 "nbformat_minor": 0
}
