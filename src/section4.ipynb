{
 "cells": [
  {
   "cell_type": "markdown",
   "source": [
    "# Section 4: The `reduce()` Function"
   ],
   "metadata": {
    "collapsed": false
   }
  },
  {
   "cell_type": "code",
   "execution_count": 90,
   "outputs": [],
   "source": [
    "from functools import reduce\n",
    "from collections import namedtuple\n",
    "from collections import defaultdict\n",
    "from pprint import pprint as pp\n",
    "from datetime import date\n",
    "from typing import TypedDict\n",
    "from itertools import groupby"
   ],
   "metadata": {
    "collapsed": false
   }
  },
  {
   "cell_type": "code",
   "execution_count": 91,
   "outputs": [],
   "source": [
    "Scientist = namedtuple(\"Scientist\", [\"name\", \"field\", \"born\", \"nobel\"])"
   ],
   "metadata": {
    "collapsed": false
   }
  },
  {
   "cell_type": "code",
   "execution_count": 92,
   "outputs": [],
   "source": [
    "scientists = (\n",
    "    Scientist(name=\"Ada Lovelace\", field=\"math\", born=1815, nobel=False),\n",
    "    Scientist(name=\"Emmy Noether\", field=\"math\", born=1882, nobel=False),\n",
    "    Scientist(name=\"Marie Curie\", field=\"chemistry\", born=1867, nobel=True),\n",
    "    Scientist(name=\"Tu Youyou\", field=\"physics\", born=1930, nobel=True),\n",
    "    Scientist(name=\"Ada Yonath\", field=\"chemistry\", born=1939, nobel=True),\n",
    "    Scientist(name=\"Vera Rubin\", field=\"astronomy\", born=1928, nobel=False),\n",
    "    Scientist(name=\"Sally Ride\", field=\"physics\", born=1951, nobel=False),\n",
    ")"
   ],
   "metadata": {
    "collapsed": false
   }
  },
  {
   "cell_type": "code",
   "execution_count": 93,
   "outputs": [
    {
     "data": {
      "text/plain": "({'name': 'Ada Lovelace', 'age': 207},\n {'name': 'Emmy Noether', 'age': 140},\n {'name': 'Marie Curie', 'age': 155},\n {'name': 'Tu Youyou', 'age': 92},\n {'name': 'Ada Yonath', 'age': 83},\n {'name': 'Vera Rubin', 'age': 94},\n {'name': 'Sally Ride', 'age': 71})"
     },
     "execution_count": 93,
     "metadata": {},
     "output_type": "execute_result"
    }
   ],
   "source": [
    "class NameAge(TypedDict):\n",
    "    name: str\n",
    "    age: int\n",
    "\n",
    "\n",
    "def get_name_and_age(scientist: Scientist) -> NameAge:\n",
    "    return {\n",
    "        \"name\": scientist.name,\n",
    "        \"age\": date.today().year - scientist.born\n",
    "    }\n",
    "\n",
    "\n",
    "names_and_ages = tuple(map(get_name_and_age, scientists))\n",
    "names_and_ages"
   ],
   "metadata": {
    "collapsed": false
   }
  },
  {
   "cell_type": "code",
   "execution_count": 94,
   "outputs": [
    {
     "data": {
      "text/plain": "842"
     },
     "execution_count": 94,
     "metadata": {},
     "output_type": "execute_result"
    }
   ],
   "source": [
    "total_age = reduce(lambda acc, x: acc + x[\"age\"], names_and_ages, 0)\n",
    "total_age"
   ],
   "metadata": {
    "collapsed": false
   }
  },
  {
   "cell_type": "code",
   "execution_count": 95,
   "outputs": [
    {
     "data": {
      "text/plain": "842"
     },
     "execution_count": 95,
     "metadata": {},
     "output_type": "execute_result"
    }
   ],
   "source": [
    "sum(x[\"age\"] for x in names_and_ages)"
   ],
   "metadata": {
    "collapsed": false
   }
  },
  {
   "cell_type": "code",
   "execution_count": 96,
   "outputs": [
    {
     "name": "stdout",
     "output_type": "stream",
     "text": [
      "(Scientist(name='Ada Lovelace', field='math', born=1815, nobel=False),\n",
      " Scientist(name='Emmy Noether', field='math', born=1882, nobel=False),\n",
      " Scientist(name='Marie Curie', field='chemistry', born=1867, nobel=True),\n",
      " Scientist(name='Tu Youyou', field='physics', born=1930, nobel=True),\n",
      " Scientist(name='Ada Yonath', field='chemistry', born=1939, nobel=True),\n",
      " Scientist(name='Vera Rubin', field='astronomy', born=1928, nobel=False),\n",
      " Scientist(name='Sally Ride', field='physics', born=1951, nobel=False))\n"
     ]
    }
   ],
   "source": [
    "pp(scientists)"
   ],
   "metadata": {
    "collapsed": false
   }
  },
  {
   "cell_type": "code",
   "execution_count": 97,
   "outputs": [],
   "source": [
    "def reducer(acc: dict[str, list[str]], scientist: Scientist) -> dict[str, list[str]]:\n",
    "    acc[scientist.field].append(scientist.name)\n",
    "    return acc"
   ],
   "metadata": {
    "collapsed": false
   }
  },
  {
   "cell_type": "code",
   "execution_count": 98,
   "outputs": [
    {
     "data": {
      "text/plain": "{'math': ['Ada Lovelace', 'Emmy Noether'],\n 'physics': ['Tu Youyou', 'Sally Ride'],\n 'chemistry': ['Marie Curie', 'Ada Yonath'],\n 'astronomy': ['Vera Rubin']}"
     },
     "execution_count": 98,
     "metadata": {},
     "output_type": "execute_result"
    }
   ],
   "source": [
    "scientists_by_field = reduce(\n",
    "    reducer,\n",
    "    scientists,\n",
    "    {\"math\": [], \"physics\": [], \"chemistry\": [], \"astronomy\": []}\n",
    ")\n",
    "scientists_by_field"
   ],
   "metadata": {
    "collapsed": false
   }
  },
  {
   "cell_type": "code",
   "execution_count": 99,
   "outputs": [
    {
     "data": {
      "text/plain": "defaultdict(list,\n            {'math': ['Ada Lovelace', 'Emmy Noether'],\n             'chemistry': ['Marie Curie', 'Ada Yonath'],\n             'physics': ['Tu Youyou', 'Sally Ride'],\n             'astronomy': ['Vera Rubin']})"
     },
     "execution_count": 99,
     "metadata": {},
     "output_type": "execute_result"
    }
   ],
   "source": [
    "reduce(reducer, scientists, defaultdict(list))"
   ],
   "metadata": {
    "collapsed": false
   }
  },
  {
   "cell_type": "code",
   "execution_count": 100,
   "outputs": [
    {
     "name": "stdout",
     "output_type": "stream",
     "text": [
      "{'astronomy': [Scientist(name='Vera Rubin', field='astronomy', born=1928, nobel=False)],\n",
      " 'chemistry': [Scientist(name='Ada Yonath', field='chemistry', born=1939, nobel=True)],\n",
      " 'math': [Scientist(name='Ada Lovelace', field='math', born=1815, nobel=False),\n",
      "          Scientist(name='Emmy Noether', field='math', born=1882, nobel=False)],\n",
      " 'physics': [Scientist(name='Sally Ride', field='physics', born=1951, nobel=False)]}\n"
     ]
    }
   ],
   "source": [
    "pp({\n",
    "    item[0]: list(item[1])\n",
    "    for item in groupby(scientists, lambda x: x.field)\n",
    "})"
   ],
   "metadata": {
    "collapsed": false
   }
  }
 ],
 "metadata": {
  "kernelspec": {
   "display_name": "Python 3",
   "language": "python",
   "name": "python3"
  },
  "language_info": {
   "codemirror_mode": {
    "name": "ipython",
    "version": 2
   },
   "file_extension": ".py",
   "mimetype": "text/x-python",
   "name": "python",
   "nbconvert_exporter": "python",
   "pygments_lexer": "ipython2",
   "version": "2.7.6"
  }
 },
 "nbformat": 4,
 "nbformat_minor": 0
}
